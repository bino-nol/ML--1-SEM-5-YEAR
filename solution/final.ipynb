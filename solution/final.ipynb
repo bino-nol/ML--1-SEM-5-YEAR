{
 "cells": [
  {
   "cell_type": "code",
   "execution_count": 1,
   "id": "dce593e5",
   "metadata": {},
   "outputs": [
    {
     "ename": "NameError",
     "evalue": "name 'train' is not defined",
     "output_type": "error",
     "traceback": [
      "\u001b[1;31m---------------------------------------------------------------------------\u001b[0m",
      "\u001b[1;31mNameError\u001b[0m                                 Traceback (most recent call last)",
      "\u001b[1;32m~\\AppData\\Local\\Temp/ipykernel_2812/1590091122.py\u001b[0m in \u001b[0;36m<module>\u001b[1;34m\u001b[0m\n\u001b[1;32m----> 1\u001b[1;33m \u001b[0mtrain\u001b[0m\u001b[1;33m.\u001b[0m\u001b[0mdrop\u001b[0m\u001b[1;33m(\u001b[0m\u001b[1;34m'Color'\u001b[0m\u001b[1;33m,\u001b[0m \u001b[0minplace\u001b[0m\u001b[1;33m=\u001b[0m\u001b[1;32mTrue\u001b[0m\u001b[1;33m,\u001b[0m \u001b[0maxis\u001b[0m\u001b[1;33m=\u001b[0m\u001b[1;36m1\u001b[0m\u001b[1;33m)\u001b[0m\u001b[1;33m\u001b[0m\u001b[1;33m\u001b[0m\u001b[0m\n\u001b[0m\u001b[0;32m      2\u001b[0m \u001b[0mtrain\u001b[0m\u001b[1;33m.\u001b[0m\u001b[0mdrop\u001b[0m\u001b[1;33m(\u001b[0m\u001b[1;34m'Average price'\u001b[0m\u001b[1;33m,\u001b[0m \u001b[0minplace\u001b[0m\u001b[1;33m=\u001b[0m\u001b[1;32mTrue\u001b[0m\u001b[1;33m,\u001b[0m \u001b[0maxis\u001b[0m\u001b[1;33m=\u001b[0m\u001b[1;36m1\u001b[0m\u001b[1;33m)\u001b[0m\u001b[1;33m\u001b[0m\u001b[1;33m\u001b[0m\u001b[0m\n\u001b[0;32m      3\u001b[0m \u001b[0mtrain\u001b[0m\u001b[1;33m.\u001b[0m\u001b[0mdrop\u001b[0m\u001b[1;33m(\u001b[0m\u001b[1;34m'Seller'\u001b[0m\u001b[1;33m,\u001b[0m \u001b[0minplace\u001b[0m\u001b[1;33m=\u001b[0m\u001b[1;32mTrue\u001b[0m\u001b[1;33m,\u001b[0m \u001b[0maxis\u001b[0m\u001b[1;33m=\u001b[0m\u001b[1;36m1\u001b[0m\u001b[1;33m)\u001b[0m\u001b[1;33m\u001b[0m\u001b[1;33m\u001b[0m\u001b[0m\n\u001b[0;32m      4\u001b[0m \u001b[0mtrain\u001b[0m\u001b[1;33m.\u001b[0m\u001b[0mdrop\u001b[0m\u001b[1;33m(\u001b[0m\u001b[1;34m'Max price'\u001b[0m\u001b[1;33m,\u001b[0m \u001b[0minplace\u001b[0m\u001b[1;33m=\u001b[0m\u001b[1;32mTrue\u001b[0m\u001b[1;33m,\u001b[0m \u001b[0maxis\u001b[0m\u001b[1;33m=\u001b[0m\u001b[1;36m1\u001b[0m\u001b[1;33m)\u001b[0m\u001b[1;33m\u001b[0m\u001b[1;33m\u001b[0m\u001b[0m\n\u001b[0;32m      5\u001b[0m \u001b[0mtrain\u001b[0m\u001b[1;33m.\u001b[0m\u001b[0mdrop\u001b[0m\u001b[1;33m(\u001b[0m\u001b[1;34m'Base price'\u001b[0m\u001b[1;33m,\u001b[0m \u001b[0minplace\u001b[0m\u001b[1;33m=\u001b[0m\u001b[1;32mTrue\u001b[0m\u001b[1;33m,\u001b[0m \u001b[0maxis\u001b[0m\u001b[1;33m=\u001b[0m\u001b[1;36m1\u001b[0m\u001b[1;33m)\u001b[0m\u001b[1;33m\u001b[0m\u001b[1;33m\u001b[0m\u001b[0m\n",
      "\u001b[1;31mNameError\u001b[0m: name 'train' is not defined"
     ]
    }
   ],
   "source": [
    "train.drop('Color', inplace=True, axis=1)\n",
    "train.drop('Average price', inplace=True, axis=1)\n",
    "train.drop('Seller', inplace=True, axis=1)\n",
    "train.drop('Max price', inplace=True, axis=1)\n",
    "train.drop('Base price', inplace=True, axis=1)\n",
    "train.drop('full_category', inplace=True, axis=1)\n",
    "train.head(5)"
   ]
  },
  {
   "cell_type": "code",
   "execution_count": 2,
   "id": "b80e5a73",
   "metadata": {},
   "outputs": [],
   "source": [
    "import pandas as pd\n",
    "import numpy as np\n",
    "import matplotlib.pyplot as plt\n",
    "import seaborn as sns\n",
    "from sklearn.preprocessing import LabelEncoder\n",
    "from sklearn.model_selection import train_test_split\n",
    "from IPython.display import display, HTML,clear_output\n",
    "\n",
    "def smape(a, f):\n",
    "    return 1/len(a) * np.sum(2 * np.abs(f-a) / (np.abs(a) + np.abs(f))*100)\n",
    "\n",
    "def save(test_Id,y_pred_final):\n",
    "    sub = pd.DataFrame()\n",
    "    sub['Id'] = test_ID\n",
    "    sub['Expected'] = y_pred_final\n",
    "    sub.to_csv('submission.csv',index=False)\n",
    "    \n",
    "def str_float(df,label):\n",
    "    for i in range (df[label].size):\n",
    "        df.at[i, label] = df.at[i, label].replace(',', '.')\n",
    "        \n",
    "    df[label] = df[label].astype(float)\n",
    "    "
   ]
  },
  {
   "cell_type": "code",
   "execution_count": 3,
   "id": "acfacf85",
   "metadata": {},
   "outputs": [
    {
     "name": "stdout",
     "output_type": "stream",
     "text": [
      "<class 'pandas.core.frame.DataFrame'>\n",
      "RangeIndex: 25062 entries, 0 to 25061\n",
      "Data columns (total 18 columns):\n",
      " #   Column            Non-Null Count  Dtype  \n",
      "---  ------            --------------  -----  \n",
      " 0   Name              25062 non-null  object \n",
      " 1   Category          25062 non-null  object \n",
      " 2   Brand             25061 non-null  object \n",
      " 3   Seller            25031 non-null  object \n",
      " 4   Color             127 non-null    object \n",
      " 5   Comments          25062 non-null  float64\n",
      " 6   Final price       25062 non-null  float64\n",
      " 7   Max price         25062 non-null  float64\n",
      " 8   Min price         25062 non-null  float64\n",
      " 9   Average price     19264 non-null  float64\n",
      " 10  Sales             25062 non-null  float64\n",
      " 11  Days in stock     25062 non-null  float64\n",
      " 12  Days with sales   25062 non-null  int64  \n",
      " 13  Rating            25062 non-null  object \n",
      " 14  Basic Sale        25062 non-null  float64\n",
      " 15  Basic Sale Price  25062 non-null  float64\n",
      " 16  Base price        25062 non-null  float64\n",
      " 17  full_category     25062 non-null  object \n",
      "dtypes: float64(10), int64(1), object(7)\n",
      "memory usage: 3.4+ MB\n"
     ]
    }
   ],
   "source": [
    "train = pd.read_csv('train.csv')\n",
    "train.info()"
   ]
  },
  {
   "cell_type": "code",
   "execution_count": 4,
   "id": "a3758b01",
   "metadata": {},
   "outputs": [],
   "source": [
    "y = train['Sales']\n",
    "train.drop('Sales', inplace=True, axis=1)\n",
    "train.drop('Color', inplace=True, axis=1)\n",
    "train.drop('Name',  inplace=True, axis=1)\n",
    "train.drop('Seller', inplace=True, axis=1)\n",
    "train.drop('full_category', inplace=True, axis=1)\n",
    "train.drop('Category', inplace=True, axis=1)\n",
    "train.drop('Brand', inplace=True, axis=1)\n",
    "train.drop('Average price', inplace=True, axis=1)\n",
    "str_float(train,'Rating')\n",
    "\n",
    "x_train,x_test,y_train,y_test = train_test_split(train,y,test_size=.20,random_state=0)"
   ]
  },
  {
   "cell_type": "code",
   "execution_count": 5,
   "id": "2792c684",
   "metadata": {},
   "outputs": [
    {
     "name": "stdout",
     "output_type": "stream",
     "text": [
      "28.405719503266788\n"
     ]
    }
   ],
   "source": [
    "from sklearn.tree import DecisionTreeClassifier\n",
    "\n",
    "\n",
    "    \n",
    "classifier_finish = DecisionTreeClassifier(criterion = 'entropy', random_state=0)\n",
    "classifier = DecisionTreeClassifier(criterion = 'entropy', random_state=0)\n",
    "classifier_finish.fit(train, y)\n",
    "classifier.fit(x_train, y_train)\n",
    "y_pred=classifier.predict(x_test)\n",
    "print(smape(y_pred,y_test))"
   ]
  },
  {
   "cell_type": "code",
   "execution_count": 6,
   "id": "5ec5d42a",
   "metadata": {},
   "outputs": [],
   "source": [
    "test = pd.read_csv('test.csv')\n",
    "test_ID = test['Id']\n",
    "test.drop('Id', inplace=True, axis=1)\n",
    "test.drop('Color', inplace=True, axis=1)\n",
    "test.drop('Name', inplace=True, axis=1)\n",
    "test.drop('Seller', inplace=True, axis=1)\n",
    "test.drop('Average price', inplace=True, axis=1)\n",
    "test.drop('Brand', inplace=True, axis=1)\n",
    "test.drop('Category', inplace=True, axis=1)\n",
    "test.drop('full_category', inplace=True, axis=1)\n",
    "str_float(test,'Rating')\n",
    "    \n",
    "    \n",
    "save(test_ID,classifier_finish.predict(test))"
   ]
  },
  {
   "cell_type": "code",
   "execution_count": 7,
   "id": "5ce4b0a3",
   "metadata": {},
   "outputs": [
    {
     "name": "stdout",
     "output_type": "stream",
     "text": [
      "<class 'pandas.core.frame.DataFrame'>\n",
      "RangeIndex: 10741 entries, 0 to 10740\n",
      "Data columns (total 10 columns):\n",
      " #   Column            Non-Null Count  Dtype  \n",
      "---  ------            --------------  -----  \n",
      " 0   Comments          10741 non-null  float64\n",
      " 1   Final price       10741 non-null  float64\n",
      " 2   Max price         10741 non-null  float64\n",
      " 3   Min price         10741 non-null  float64\n",
      " 4   Days in stock     10741 non-null  float64\n",
      " 5   Days with sales   10741 non-null  int64  \n",
      " 6   Rating            10741 non-null  float64\n",
      " 7   Basic Sale        10741 non-null  float64\n",
      " 8   Basic Sale Price  10741 non-null  float64\n",
      " 9   Base price        10741 non-null  float64\n",
      "dtypes: float64(9), int64(1)\n",
      "memory usage: 839.3 KB\n"
     ]
    }
   ],
   "source": [
    "test.info()\n"
   ]
  },
  {
   "cell_type": "code",
   "execution_count": 8,
   "id": "01edb7bc",
   "metadata": {},
   "outputs": [
    {
     "name": "stdout",
     "output_type": "stream",
     "text": [
      "<class 'pandas.core.frame.DataFrame'>\n",
      "RangeIndex: 25062 entries, 0 to 25061\n",
      "Data columns (total 10 columns):\n",
      " #   Column            Non-Null Count  Dtype  \n",
      "---  ------            --------------  -----  \n",
      " 0   Comments          25062 non-null  float64\n",
      " 1   Final price       25062 non-null  float64\n",
      " 2   Max price         25062 non-null  float64\n",
      " 3   Min price         25062 non-null  float64\n",
      " 4   Days in stock     25062 non-null  float64\n",
      " 5   Days with sales   25062 non-null  int64  \n",
      " 6   Rating            25062 non-null  float64\n",
      " 7   Basic Sale        25062 non-null  float64\n",
      " 8   Basic Sale Price  25062 non-null  float64\n",
      " 9   Base price        25062 non-null  float64\n",
      "dtypes: float64(9), int64(1)\n",
      "memory usage: 1.9 MB\n"
     ]
    }
   ],
   "source": [
    "train.info()"
   ]
  },
  {
   "cell_type": "code",
   "execution_count": null,
   "id": "cb615be7",
   "metadata": {},
   "outputs": [],
   "source": []
  }
 ],
 "metadata": {
  "kernelspec": {
   "display_name": "Python 3 (ipykernel)",
   "language": "python",
   "name": "python3"
  },
  "language_info": {
   "codemirror_mode": {
    "name": "ipython",
    "version": 3
   },
   "file_extension": ".py",
   "mimetype": "text/x-python",
   "name": "python",
   "nbconvert_exporter": "python",
   "pygments_lexer": "ipython3",
   "version": "3.9.7"
  }
 },
 "nbformat": 4,
 "nbformat_minor": 5
}
